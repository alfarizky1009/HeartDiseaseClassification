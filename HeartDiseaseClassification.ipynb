{
  "nbformat": 4,
  "nbformat_minor": 0,
  "metadata": {
    "colab": {
      "name": "HeartDiseaseClassification.ipynb",
      "provenance": [],
      "authorship_tag": "ABX9TyNY13e6Mvhjwa7/3N+4Bm2z",
      "include_colab_link": true
    },
    "kernelspec": {
      "name": "python3",
      "display_name": "Python 3"
    }
  },
  "cells": [
    {
      "cell_type": "markdown",
      "metadata": {
        "id": "view-in-github",
        "colab_type": "text"
      },
      "source": [
        "<a href=\"https://colab.research.google.com/github/alfarizky1009/HeartDiseaseClassification/blob/main/HeartDiseaseClassification.ipynb\" target=\"_parent\"><img src=\"https://colab.research.google.com/assets/colab-badge.svg\" alt=\"Open In Colab\"/></a>"
      ]
    },
    {
      "cell_type": "code",
      "metadata": {
        "colab": {
          "base_uri": "https://localhost:8080/"
        },
        "id": "qQhZAWnWJOGB",
        "outputId": "3e345dd0-b0f2-4c18-a2c8-3fc72ce60081"
      },
      "source": [
        "from google.colab import drive\n",
        "drive.mount('/content/drive')"
      ],
      "execution_count": 1,
      "outputs": [
        {
          "output_type": "stream",
          "text": [
            "Mounted at /content/drive\n"
          ],
          "name": "stdout"
        }
      ]
    },
    {
      "cell_type": "code",
      "metadata": {
        "colab": {
          "base_uri": "https://localhost:8080/"
        },
        "id": "rmwvKYUAJXju",
        "outputId": "d346a774-f922-4de4-ac21-e30a5d2602a9"
      },
      "source": [
        "cd drive/MyDrive/Heart\\ Disease"
      ],
      "execution_count": 2,
      "outputs": [
        {
          "output_type": "stream",
          "text": [
            "/content/drive/MyDrive/Heart Disease\n"
          ],
          "name": "stdout"
        }
      ]
    },
    {
      "cell_type": "code",
      "metadata": {
        "colab": {
          "base_uri": "https://localhost:8080/"
        },
        "id": "-mtTNHHIJbba",
        "outputId": "08c56855-bf0e-4a70-d2e7-05d6bf93769a"
      },
      "source": [
        "!unzip archive.zip"
      ],
      "execution_count": 3,
      "outputs": [
        {
          "output_type": "stream",
          "text": [
            "Archive:  archive.zip\n",
            "  inflating: data.csv                \n"
          ],
          "name": "stdout"
        }
      ]
    },
    {
      "cell_type": "code",
      "metadata": {
        "id": "KNUCuONYJhw8"
      },
      "source": [
        "import pandas as pd\r\n",
        "import matplotlib.pyplot as plt\r\n",
        "import numpy as np\r\n",
        "from sklearn.model_selection import train_test_split\r\n",
        "\r\n",
        "from collections import Counter\r\n",
        "\r\n",
        "from sklearn.linear_model import LogisticRegression\r\n",
        "\r\n",
        "from sklearn.metrics import accuracy_score\r\n",
        "from sklearn.metrics import precision_score\r\n",
        "from sklearn.metrics import recall_score\r\n",
        "from sklearn.metrics import f1_score"
      ],
      "execution_count": 8,
      "outputs": []
    },
    {
      "cell_type": "code",
      "metadata": {
        "id": "oZnOgjTyJdfZ"
      },
      "source": [
        "df = pd.read_csv(\"data.csv\")"
      ],
      "execution_count": 6,
      "outputs": []
    },
    {
      "cell_type": "code",
      "metadata": {
        "colab": {
          "base_uri": "https://localhost:8080/",
          "height": 204
        },
        "id": "8u9CwRg1JgsD",
        "outputId": "de5e9bca-2c99-4941-aea5-0f719b5db655"
      },
      "source": [
        "df.head()\r\n",
        "\r\n",
        "#Age: age in years.\r\n",
        "#Sex: sex (1=male; 0=female).\r\n",
        "#Cp: chest pain type (0 = typical angina; 1 = atypical angina; 2 = non-anginal pain; 3: asymptomatic).\r\n",
        "#Trestbps: resting blood pressure in mm Hg on admission to the hospital.\r\n",
        "#Chol: serum cholesterol in mg/dl. fbs: fasting blood sugar > 120 mg/dl (1=true; 0=false).\r\n",
        "#Restecg: resting electrocardiographic results ( 0=normal; 1=having ST-T wave abnormality; 2=probable or definite left ventricular hypertrophy).\r\n",
        "#Thalach: maximum heart rate achieved. Exang: exercise-induced angina (1=yes; 0=no).\r\n",
        "#Oldpeak: ST depression induced by exercise relative to rest.\r\n",
        "#Slope: the slope of the peak exercise ST segment (0=upsloping; 1=flat; 2=downsloping).\r\n",
        "#Ca: number of major vessels (0–3) colored by fluorosopy.\r\n",
        "#Thal: thalassemia (3=normal; 6=fixed defect; 7=reversable defect).\r\n",
        "#Target: heart disease (1=no, 2=yes)."
      ],
      "execution_count": 7,
      "outputs": [
        {
          "output_type": "execute_result",
          "data": {
            "text/html": [
              "<div>\n",
              "<style scoped>\n",
              "    .dataframe tbody tr th:only-of-type {\n",
              "        vertical-align: middle;\n",
              "    }\n",
              "\n",
              "    .dataframe tbody tr th {\n",
              "        vertical-align: top;\n",
              "    }\n",
              "\n",
              "    .dataframe thead th {\n",
              "        text-align: right;\n",
              "    }\n",
              "</style>\n",
              "<table border=\"1\" class=\"dataframe\">\n",
              "  <thead>\n",
              "    <tr style=\"text-align: right;\">\n",
              "      <th></th>\n",
              "      <th>age</th>\n",
              "      <th>sex</th>\n",
              "      <th>cp</th>\n",
              "      <th>trestbps</th>\n",
              "      <th>chol</th>\n",
              "      <th>fbs</th>\n",
              "      <th>restecg</th>\n",
              "      <th>thalach</th>\n",
              "      <th>exang</th>\n",
              "      <th>oldpeak</th>\n",
              "      <th>slope</th>\n",
              "      <th>ca</th>\n",
              "      <th>thal</th>\n",
              "      <th>target</th>\n",
              "    </tr>\n",
              "  </thead>\n",
              "  <tbody>\n",
              "    <tr>\n",
              "      <th>0</th>\n",
              "      <td>70</td>\n",
              "      <td>1</td>\n",
              "      <td>4</td>\n",
              "      <td>130</td>\n",
              "      <td>322</td>\n",
              "      <td>0</td>\n",
              "      <td>2</td>\n",
              "      <td>109</td>\n",
              "      <td>0</td>\n",
              "      <td>2.4</td>\n",
              "      <td>2</td>\n",
              "      <td>3</td>\n",
              "      <td>3</td>\n",
              "      <td>2</td>\n",
              "    </tr>\n",
              "    <tr>\n",
              "      <th>1</th>\n",
              "      <td>67</td>\n",
              "      <td>0</td>\n",
              "      <td>3</td>\n",
              "      <td>115</td>\n",
              "      <td>564</td>\n",
              "      <td>0</td>\n",
              "      <td>2</td>\n",
              "      <td>160</td>\n",
              "      <td>0</td>\n",
              "      <td>1.6</td>\n",
              "      <td>2</td>\n",
              "      <td>0</td>\n",
              "      <td>7</td>\n",
              "      <td>1</td>\n",
              "    </tr>\n",
              "    <tr>\n",
              "      <th>2</th>\n",
              "      <td>57</td>\n",
              "      <td>1</td>\n",
              "      <td>2</td>\n",
              "      <td>124</td>\n",
              "      <td>261</td>\n",
              "      <td>0</td>\n",
              "      <td>0</td>\n",
              "      <td>141</td>\n",
              "      <td>0</td>\n",
              "      <td>0.3</td>\n",
              "      <td>1</td>\n",
              "      <td>0</td>\n",
              "      <td>7</td>\n",
              "      <td>2</td>\n",
              "    </tr>\n",
              "    <tr>\n",
              "      <th>3</th>\n",
              "      <td>64</td>\n",
              "      <td>1</td>\n",
              "      <td>4</td>\n",
              "      <td>128</td>\n",
              "      <td>263</td>\n",
              "      <td>0</td>\n",
              "      <td>0</td>\n",
              "      <td>105</td>\n",
              "      <td>1</td>\n",
              "      <td>0.2</td>\n",
              "      <td>2</td>\n",
              "      <td>1</td>\n",
              "      <td>7</td>\n",
              "      <td>1</td>\n",
              "    </tr>\n",
              "    <tr>\n",
              "      <th>4</th>\n",
              "      <td>74</td>\n",
              "      <td>0</td>\n",
              "      <td>2</td>\n",
              "      <td>120</td>\n",
              "      <td>269</td>\n",
              "      <td>0</td>\n",
              "      <td>2</td>\n",
              "      <td>121</td>\n",
              "      <td>1</td>\n",
              "      <td>0.2</td>\n",
              "      <td>1</td>\n",
              "      <td>1</td>\n",
              "      <td>3</td>\n",
              "      <td>1</td>\n",
              "    </tr>\n",
              "  </tbody>\n",
              "</table>\n",
              "</div>"
            ],
            "text/plain": [
              "   age  sex  cp  trestbps  chol  fbs  ...  exang  oldpeak  slope  ca  thal  target\n",
              "0   70    1   4       130   322    0  ...      0      2.4      2   3     3       2\n",
              "1   67    0   3       115   564    0  ...      0      1.6      2   0     7       1\n",
              "2   57    1   2       124   261    0  ...      0      0.3      1   0     7       2\n",
              "3   64    1   4       128   263    0  ...      1      0.2      2   1     7       1\n",
              "4   74    0   2       120   269    0  ...      1      0.2      1   1     3       1\n",
              "\n",
              "[5 rows x 14 columns]"
            ]
          },
          "metadata": {
            "tags": []
          },
          "execution_count": 7
        }
      ]
    },
    {
      "cell_type": "code",
      "metadata": {
        "id": "QU7A3kPcJosu"
      },
      "source": [
        "x = df[[\"age\", \"sex\", \"cp\", \"trestbps\", \"chol\", \"fbs\", \"restecg\", \"thalach\", \"exang\", \"oldpeak\", \"slope\", \"ca\", \"thal\"]]\r\n",
        "y = df[\"target\"]"
      ],
      "execution_count": 9,
      "outputs": []
    },
    {
      "cell_type": "code",
      "metadata": {
        "colab": {
          "base_uri": "https://localhost:8080/"
        },
        "id": "DjsYwwHmKiEi",
        "outputId": "2390f688-023a-476a-a0f5-8430daf37831"
      },
      "source": [
        "print(df['target'].value_counts().to_dict())"
      ],
      "execution_count": 10,
      "outputs": [
        {
          "output_type": "stream",
          "text": [
            "{1: 150, 2: 120}\n"
          ],
          "name": "stdout"
        }
      ]
    },
    {
      "cell_type": "code",
      "metadata": {
        "id": "hzCitc-TKoLS"
      },
      "source": [
        "xTrain, xTest, yTrain, yTest = train_test_split(x, y, test_size = 0.2, random_state = 3)"
      ],
      "execution_count": 16,
      "outputs": []
    },
    {
      "cell_type": "code",
      "metadata": {
        "colab": {
          "base_uri": "https://localhost:8080/",
          "height": 248
        },
        "id": "IXP_URyFKyB4",
        "outputId": "49de0ef3-3415-4a41-a5e8-03e10487c12e"
      },
      "source": [
        "import matplotlib.pyplot as plt\r\n",
        "\r\n",
        "yTrain_count = yTrain.value_counts()\r\n",
        "\r\n",
        "# Pie chart, where the slices will be ordered and plotted counter-clockwise:\r\n",
        "labels = 'No', 'Yes'\r\n",
        "sizes = [yTrain_count[1], yTrain_count[2]]\r\n",
        "\r\n",
        "fig1, ax1 = plt.subplots()\r\n",
        "ax1.pie(sizes, labels=labels, autopct='%1.1f%%',\r\n",
        "        shadow=True, startangle=90)\r\n",
        "ax1.axis('equal')  # Equal aspect ratio ensures that pie is drawn as a circle.\r\n",
        "\r\n",
        "plt.show()"
      ],
      "execution_count": 17,
      "outputs": [
        {
          "output_type": "display_data",
          "data": {
            "image/png": "[encoded data removed]",
            "text/plain": [
              "<Figure size 432x288 with 1 Axes>"
            ]
          },
          "metadata": {
            "tags": []
          }
        }
      ]
    },
    {
      "cell_type": "code",
      "metadata": {
        "colab": {
          "base_uri": "https://localhost:8080/",
          "height": 248
        },
        "id": "6waoAYDmLMky",
        "outputId": "31c657ae-6125-4bc1-fdfd-95d31ba1b500"
      },
      "source": [
        "import matplotlib.pyplot as plt\r\n",
        "\r\n",
        "yTest_count = yTest.value_counts()\r\n",
        "\r\n",
        "# Pie chart, where the slices will be ordered and plotted counter-clockwise:\r\n",
        "labels = 'No', 'Yes'\r\n",
        "sizes = [yTest_count[1], yTest_count[2]]\r\n",
        "\r\n",
        "fig1, ax1 = plt.subplots()\r\n",
        "ax1.pie(sizes, labels=labels, autopct='%1.1f%%',\r\n",
        "        shadow=True, startangle=90)\r\n",
        "ax1.axis('equal')  # Equal aspect ratio ensures that pie is drawn as a circle.\r\n",
        "\r\n",
        "plt.show()"
      ],
      "execution_count": 18,
      "outputs": [
        {
          "output_type": "display_data",
          "data": {
            "image/png": "[encoded data removed]",
            "text/plain": [
              "<Figure size 432x288 with 1 Axes>"
            ]
          },
          "metadata": {
            "tags": []
          }
        }
      ]
    },
    {
      "cell_type": "code",
      "metadata": {
        "id": "xqNJtl2fLWup"
      },
      "source": [
        "LogReg = LogisticRegression(max_iter=1000)\r\n",
        "lgModel = LogReg.fit(xTrain, yTrain)"
      ],
      "execution_count": 19,
      "outputs": []
    },
    {
      "cell_type": "code",
      "metadata": {
        "id": "YbzfiV4tLpqK"
      },
      "source": [
        "lgPred = lgModel.predict(xTest)"
      ],
      "execution_count": 20,
      "outputs": []
    },
    {
      "cell_type": "code",
      "metadata": {
        "colab": {
          "base_uri": "https://localhost:8080/"
        },
        "id": "Na66ZqbdLu6N",
        "outputId": "29e03905-23b6-49e2-cc45-1313314f2e9c"
      },
      "source": [
        "lgPred"
      ],
      "execution_count": 21,
      "outputs": [
        {
          "output_type": "execute_result",
          "data": {
            "text/plain": [
              "array([2, 1, 1, 1, 1, 2, 2, 1, 1, 1, 1, 1, 2, 1, 1, 2, 2, 1, 2, 2, 1, 2,\n",
              "       1, 2, 1, 2, 2, 1, 1, 1, 1, 2, 1, 2, 1, 1, 1, 2, 2, 1, 2, 1, 2, 2,\n",
              "       1, 2, 1, 1, 2, 2, 1, 1, 1, 2])"
            ]
          },
          "metadata": {
            "tags": []
          },
          "execution_count": 21
        }
      ]
    },
    {
      "cell_type": "code",
      "metadata": {
        "colab": {
          "base_uri": "https://localhost:8080/"
        },
        "id": "1__8CRDeLvnu",
        "outputId": "412ab566-5e65-43c8-fe44-94c0c2a2956c"
      },
      "source": [
        "lgPred_no = (lgPred == 1).sum()\r\n",
        "lgPred_yes = (lgPred == 2).sum()\r\n",
        "\r\n",
        "print(lgPred_no)\r\n",
        "print(lgPred_yes)"
      ],
      "execution_count": 22,
      "outputs": [
        {
          "output_type": "stream",
          "text": [
            "31\n",
            "23\n"
          ],
          "name": "stdout"
        }
      ]
    },
    {
      "cell_type": "code",
      "metadata": {
        "colab": {
          "base_uri": "https://localhost:8080/"
        },
        "id": "0Y8S7w_EL-O0",
        "outputId": "76103b8e-bd97-4c9f-9171-a52d1842e9f4"
      },
      "source": [
        "from sklearn.metrics import confusion_matrix\r\n",
        "lgCM = confusion_matrix(yTest, lgPred)\r\n",
        "\r\n",
        "lgCM"
      ],
      "execution_count": 23,
      "outputs": [
        {
          "output_type": "execute_result",
          "data": {
            "text/plain": [
              "array([[25,  6],\n",
              "       [ 6, 17]])"
            ]
          },
          "metadata": {
            "tags": []
          },
          "execution_count": 23
        }
      ]
    },
    {
      "cell_type": "code",
      "metadata": {
        "colab": {
          "base_uri": "https://localhost:8080/",
          "height": 442
        },
        "id": "yA9KaY_TMFE-",
        "outputId": "b694e56f-78b5-41fe-f18a-4a229ac4bbcd"
      },
      "source": [
        "import seaborn as sn\r\n",
        "\r\n",
        "lg_cm = pd.DataFrame(lgCM, range(2), range(2))\r\n",
        "plt.figure(figsize=(10,7))\r\n",
        "sn.set(font_scale=1.4) # for label size\r\n",
        "sn.heatmap(lg_cm, annot=True, annot_kws={\"size\": 16}) # font size\r\n",
        "\r\n",
        "plt.show()"
      ],
      "execution_count": 24,
      "outputs": [
        {
          "output_type": "display_data",
          "data": {
            "image/png": "[encoded data removed]",
            "text/plain": [
              "<Figure size 720x504 with 2 Axes>"
            ]
          },
          "metadata": {
            "tags": [],
            "needs_background": "light"
          }
        }
      ]
    },
    {
      "cell_type": "code",
      "metadata": {
        "colab": {
          "base_uri": "https://localhost:8080/"
        },
        "id": "h_xO6l4qMJbH",
        "outputId": "a27888cf-a88d-4cc4-9574-7730132a7bb0"
      },
      "source": [
        "# accuracy: (tp + tn) / (p + n)\r\n",
        "accuracy = accuracy_score(yTest, lgPred)\r\n",
        "print('Accuracy: %f' % accuracy)\r\n",
        "# precision tp / (tp + fp)\r\n",
        "precision = precision_score(yTest, lgPred)\r\n",
        "print('Precision: %f' % precision)\r\n",
        "# recall: tp / (tp + fn)\r\n",
        "recall = recall_score(yTest, lgPred)\r\n",
        "print('Recall: %f' % recall)\r\n",
        "# f1: 2 tp / (2 tp + fp + fn)\r\n",
        "f1 = f1_score(yTest, lgPred)\r\n",
        "print('F1 score: %f' % f1)"
      ],
      "execution_count": 25,
      "outputs": [
        {
          "output_type": "stream",
          "text": [
            "Accuracy: 0.777778\n",
            "Precision: 0.806452\n",
            "Recall: 0.806452\n",
            "F1 score: 0.806452\n"
          ],
          "name": "stdout"
        }
      ]
    },
    {
      "cell_type": "code",
      "metadata": {
        "colab": {
          "base_uri": "https://localhost:8080/",
          "height": 293
        },
        "id": "sIPFec82MOkY",
        "outputId": "34776e9f-18b5-49a4-b9cf-d02760bf4abe"
      },
      "source": [
        "from matplotlib import pyplot as plt \r\n",
        "import numpy as np  \r\n",
        "\r\n",
        "plt.hist(yTest, bins = [1, 2, 3]) \r\n",
        "plt.title(\"Test Class\") \r\n",
        "plt.show()"
      ],
      "execution_count": 29,
      "outputs": [
        {
          "output_type": "display_data",
          "data": {
            "image/png": "[encoded data removed]",
            "text/plain": [
              "<Figure size 432x288 with 1 Axes>"
            ]
          },
          "metadata": {
            "tags": []
          }
        }
      ]
    },
    {
      "cell_type": "code",
      "metadata": {
        "colab": {
          "base_uri": "https://localhost:8080/",
          "height": 293
        },
        "id": "UThabIK8RSSj",
        "outputId": "f5b239da-72ea-4202-fb94-28cccb298887"
      },
      "source": [
        "from matplotlib import pyplot as plt \r\n",
        "import numpy as np  \r\n",
        "\r\n",
        "plt.hist(lgPred, bins = [1, 2, 3]) \r\n",
        "plt.title(\"Prediction\") \r\n",
        "plt.show()"
      ],
      "execution_count": 31,
      "outputs": [
        {
          "output_type": "display_data",
          "data": {
            "image/png": "[encoded data removed]",
            "text/plain": [
              "<Figure size 432x288 with 1 Axes>"
            ]
          },
          "metadata": {
            "tags": []
          }
        }
      ]
    },
    {
      "cell_type": "code",
      "metadata": {
        "colab": {
          "base_uri": "https://localhost:8080/"
        },
        "id": "jbsXZfXkRqw5",
        "outputId": "9c375d45-de82-4e02-be5b-09f87cc5c83b"
      },
      "source": [
        "lgPred"
      ],
      "execution_count": 36,
      "outputs": [
        {
          "output_type": "execute_result",
          "data": {
            "text/plain": [
              "array([2, 1, 1, 1, 1, 2, 2, 1, 1, 1, 1, 1, 2, 1, 1, 2, 2, 1, 2, 2, 1, 2,\n",
              "       1, 2, 1, 2, 2, 1, 1, 1, 1, 2, 1, 2, 1, 1, 1, 2, 2, 1, 2, 1, 2, 2,\n",
              "       1, 2, 1, 1, 2, 2, 1, 1, 1, 2])"
            ]
          },
          "metadata": {
            "tags": []
          },
          "execution_count": 36
        }
      ]
    },
    {
      "cell_type": "code",
      "metadata": {
        "colab": {
          "base_uri": "https://localhost:8080/"
        },
        "id": "2Z-AMn1HR3-g",
        "outputId": "0d268db1-188f-4f8a-dccb-e15b8b003ef9"
      },
      "source": [
        "yTest"
      ],
      "execution_count": 35,
      "outputs": [
        {
          "output_type": "execute_result",
          "data": {
            "text/plain": [
              "50     2\n",
              "266    1\n",
              "38     1\n",
              "83     1\n",
              "198    1\n",
              "187    1\n",
              "204    2\n",
              "162    1\n",
              "146    2\n",
              "73     1\n",
              "98     1\n",
              "111    1\n",
              "103    2\n",
              "151    1\n",
              "25     1\n",
              "16     2\n",
              "6      2\n",
              "255    1\n",
              "142    2\n",
              "89     2\n",
              "143    1\n",
              "126    2\n",
              "210    2\n",
              "31     1\n",
              "67     2\n",
              "3      1\n",
              "61     2\n",
              "58     2\n",
              "114    1\n",
              "14     1\n",
              "239    1\n",
              "250    2\n",
              "43     1\n",
              "230    2\n",
              "74     1\n",
              "161    2\n",
              "23     1\n",
              "163    2\n",
              "234    1\n",
              "136    1\n",
              "46     2\n",
              "222    1\n",
              "5      1\n",
              "186    2\n",
              "247    1\n",
              "193    2\n",
              "128    1\n",
              "40     2\n",
              "108    2\n",
              "235    2\n",
              "268    1\n",
              "15     1\n",
              "253    1\n",
              "84     1\n",
              "Name: target, dtype: int64"
            ]
          },
          "metadata": {
            "tags": []
          },
          "execution_count": 35
        }
      ]
    }
  ]
}